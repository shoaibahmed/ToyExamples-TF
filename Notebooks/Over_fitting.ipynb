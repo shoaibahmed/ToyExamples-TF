{
  "nbformat": 4,
  "nbformat_minor": 0,
  "metadata": {
    "colab": {
      "name": "Over-fitting.ipynb",
      "version": "0.3.2",
      "provenance": [],
      "collapsed_sections": []
    },
    "kernelspec": {
      "name": "python3",
      "display_name": "Python 3"
    }
  },
  "cells": [
    {
      "metadata": {
        "id": "nhpGyHEY8muE",
        "colab_type": "code",
        "colab": {}
      },
      "cell_type": "code",
      "source": [
        "!pip install --upgrade -q opencv-contrib-python"
      ],
      "execution_count": 0,
      "outputs": []
    },
    {
      "metadata": {
        "id": "THco946mUgpP",
        "colab_type": "code",
        "colab": {}
      },
      "cell_type": "code",
      "source": [
        "# Import required pacakges\n",
        "import numpy as np\n",
        "\n",
        "# ML packages\n",
        "import tensorflow as tf\n",
        "\n",
        "# Visualization packages\n",
        "import matplotlib.pyplot as plt\n",
        "from matplotlib.patches import Ellipse\n",
        "import seaborn as sns\n",
        "\n",
        "import cv2\n",
        "\n",
        "%matplotlib inline"
      ],
      "execution_count": 0,
      "outputs": []
    },
    {
      "metadata": {
        "id": "rzXEQLuEUv0Z",
        "colab_type": "code",
        "colab": {
          "base_uri": "https://localhost:8080/",
          "height": 35
        },
        "outputId": "9d06c071-e603-439b-c111-2c3358bff0b9"
      },
      "cell_type": "code",
      "source": [
        "# Create the 2-D dataset of points in range [0, 1)\n",
        "numSamples = 200\n",
        "numDimensions = 2\n",
        "\n",
        "trainDataPoints = np.array([np.random.rand(numSamples,), np.random.rand(numSamples,)]).T\n",
        "testDataPoints = np.array([np.random.rand(numSamples,), np.random.rand(numSamples,)]).T\n",
        "\n",
        "# Desired ellipse params\n",
        "# (x - x0)^2/a^2 + (y - y0)^2/b^2 = r^2\n",
        "center = (np.random.random(), np.random.random())\n",
        "a = np.random.random()\n",
        "b = np.random.random()\n",
        "r = np.random.normal(loc=0.5, scale=0.15)\n",
        "print (\"Data params | Center: %s | a: %f | b: %f | r: %f\" % (str(center), a, b, r))\n",
        "\n",
        "trainLabels = ((np.square(trainDataPoints[:, 0] - center[0]) / np.square(a)) + (np.square(trainDataPoints[:, 1] - center[1]) / np.square(b)) > np.square(r))\n",
        "testLabels = ((np.square(testDataPoints[:, 0] - center[0]) / np.square(a)) + (np.square(testDataPoints[:, 1] - center[1]) / np.square(b)) > np.square(r))\n",
        "\n",
        "trainLabelsFloat = trainLabels.astype(float)\n",
        "testLabelsFloat = trainLabels.astype(float)\n",
        "\n",
        "outerPoints = trainDataPoints[trainLabels]"
      ],
      "execution_count": 3,
      "outputs": [
        {
          "output_type": "stream",
          "text": [
            "Data params | Center: (0.7591445840052834, 0.2840649937960117) | a: 0.738812 | b: 0.592362 | r: 0.511187\n"
          ],
          "name": "stdout"
        }
      ]
    },
    {
      "metadata": {
        "id": "WmXXOsLH_hHS",
        "colab_type": "code",
        "colab": {}
      },
      "cell_type": "code",
      "source": [
        "def drawEllipse(\n",
        "        img, center, axes, angle,\n",
        "        startAngle, endAngle, color,\n",
        "        thickness=3, lineType=cv2.LINE_AA, shift=10):\n",
        "    center = (\n",
        "        int(round(center[0] * 2**shift)),\n",
        "        int(round(center[1] * 2**shift))\n",
        "    )\n",
        "    axes = (\n",
        "        int(round(axes[0] * 2**shift)),\n",
        "        int(round(axes[1] * 2**shift))\n",
        "    )\n",
        "    cv2.ellipse(\n",
        "        img, center, axes, angle,\n",
        "        startAngle, endAngle, color,\n",
        "        thickness, lineType, shift)"
      ],
      "execution_count": 0,
      "outputs": []
    },
    {
      "metadata": {
        "id": "subGpXnwVM_I",
        "colab_type": "code",
        "colab": {
          "base_uri": "https://localhost:8080/",
          "height": 1157
        },
        "outputId": "96cb45bf-451e-47e0-f71e-8473b0cc84aa"
      },
      "cell_type": "code",
      "source": [
        "# Create the data set plot\n",
        "plt.rcParams['figure.figsize'] = [20, 20]\n",
        "plotDim = 1000\n",
        "dataPlot = np.ones((plotDim, plotDim, 3), dtype=np.float32)\n",
        "scaledIndices = np.floor(trainDataPoints * plotDim).astype(np.int32)\n",
        "\n",
        "# Create decision boundary meshgrid\n",
        "for x in range(plotDim):\n",
        "  for y in range(plotDim):\n",
        "    # Exchange x and y because of i and j\n",
        "    gridLabel = ((np.square((y / plotDim) - center[0]) / np.square(a)) + (np.square((x / plotDim) - center[1]) / np.square(b)) > np.square(r))\n",
        "    if gridLabel:\n",
        "      dataPlot[x, y, :] = [0.5, 0.5, 0.5]\n",
        "\n",
        "for i in range(scaledIndices.shape[0]):\n",
        "  color = (0.0, 0.0, 0.0)\n",
        "  if trainLabels[i]:\n",
        "    color = (1.0, 0.0, 0.0) # RGB\n",
        "  \n",
        "  cv2.circle(dataPlot, (scaledIndices[i, 0], scaledIndices[i, 1]), 5, color, -1)\n",
        "\n",
        "#drawEllipse(dataPlot, center=center, axes=((a, b) if a > b else (b, a)), angle=0.0, startAngle=0.0, endAngle=360, color=(1.0, 0.0, 1.0), thickness=50)\n",
        "\n",
        "plt.tight_layout()\n",
        "plt.axis('off')\n",
        "plt.imshow(dataPlot)"
      ],
      "execution_count": 24,
      "outputs": [
        {
          "output_type": "execute_result",
          "data": {
            "text/plain": [
              "<matplotlib.image.AxesImage at 0x7f6704e9bba8>"
            ]
          },
          "metadata": {
            "tags": []
          },
          "execution_count": 24
        },
        {
          "output_type": "display_data",
          "data": {
            "image/png": "[encoded data removed]",
            "text/plain": [
              "<matplotlib.figure.Figure at 0x7f67051bbc88>"
            ]
          },
          "metadata": {
            "tags": []
          }
        }
      ]
    },
    {
      "metadata": {
        "id": "YUxDvYzYU2rH",
        "colab_type": "code",
        "colab": {}
      },
      "cell_type": "code",
      "source": [
        "# Perform polynomial logistic regression\n",
        "numIterations = 1000\n",
        "learningRate = 1e-1\n",
        "\n",
        "# Clear previous graph\n",
        "tf.reset_default_graph()\n",
        "\n",
        "dataPointPlaceholder = tf.placeholder(tf.float32, shape=(None, numDimensions), name=\"dataPointPlaceholder\")\n",
        "labelPlaceholder = tf.placeholder(tf.float32, shape=(None,), name=\"labelPlaceholder\")\n",
        "\n",
        "# Create the model variables\n",
        "def addMLPNode(dataInput, outDim):\n",
        "\tW = tf.Variable(tf.random_normal([int(dataInput.get_shape()[-1]), outDim]))\n",
        "\tb = tf.Variable(tf.zeros([outDim]))\n",
        "\ty = tf.matmul(dataInput, W) + b\n",
        "\treturn y\n",
        "\n",
        "# Create the model\n",
        "hiddenDimension = 10\n",
        "mlp = tf.nn.tanh(addMLPNode(dataPointPlaceholder, hiddenDimension))\n",
        "mlp = tf.nn.sigmoid(addMLPNode(mlp, 1))\n",
        "y = tf.reshape(mlp, [-1])\n",
        "print (y.get_shape())\n",
        "\n",
        "# Define the loss function\n",
        "epsilon = 1e-8\n",
        "with tf.name_scope('loss') as scope:\n",
        "\tloss = - (labelPlaceholder * tf.log(y + epsilon)) - ((1.0 - labelPlaceholder) * tf.log(1.0 - y + epsilon))\n",
        "\tloss = tf.reduce_mean(loss)\n",
        "  \n",
        "with tf.name_scope('accuracy'):\n",
        "\tcorrectPredictions = tf.equal(tf.round(y), tf.round(labelPlaceholder))\n",
        "\taccuracy = tf.reduce_mean(tf.cast(correctPredictions, tf.float32), name='accuracy')\n",
        "\n",
        "with tf.name_scope('optimizer') as scope:\n",
        "\toptimizer = tf.train.AdamOptimizer(learning_rate=learningRate).minimize(loss)"
      ],
      "execution_count": 0,
      "outputs": []
    },
    {
      "metadata": {
        "id": "FyDS2j-OU4jQ",
        "colab_type": "code",
        "colab": {}
      },
      "cell_type": "code",
      "source": [
        "# Train the model\n",
        "print (\"Training model\")\n",
        "config = tf.ConfigProto()\n",
        "config.gpu_options.allow_growth=True\n",
        "\n",
        "with tf.Session(config=config) as sess:\n",
        "  # Initializing the variables\n",
        "  init = tf.global_variables_initializer()\n",
        "  sess.run(init)\n",
        "\n",
        "  for i in range(numIterations):\n",
        "    _, trainLoss, trainAccuracy = sess.run([optimizer, loss, accuracy], feed_dict={dataPointPlaceholder: trainDataPoints, labelPlaceholder: trainLabelsFloat})\n",
        "    print (\"Iteration: %d | Loss: %f | Accuracy: %f\" % (i + 1, trainLoss, trainAccuracy))\n",
        "  print (\"Training finished!\")\n",
        "\n",
        "  # Generate predictions on the test set\n",
        "  testSetPredictions, testLoss, testAccuracy = sess.run([y, loss, accuracy], feed_dict={dataPointPlaceholder: testDataPoints, labelPlaceholder: testLabelsFloat})\n",
        "  \n",
        "  # Get decision boundary\n",
        "  testSetPredictions, testLoss, testAccuracy = sess.run([y, loss, accuracy], feed_dict={dataPointPlaceholder: testDataPoints, labelPlaceholder: testLabelsFloat})"
      ],
      "execution_count": 0,
      "outputs": []
    },
    {
      "metadata": {
        "id": "GsasOmNdU6zZ",
        "colab_type": "code",
        "colab": {}
      },
      "cell_type": "code",
      "source": [
        "print (\"Test Loss: %f | Test Accuracy: %f\" % (testLoss, testAccuracy))\n",
        "\n",
        "testSetPredictions = np.squeeze(testSetPredictions)\n",
        "threshold = 0.5\n",
        "testSetPredictions = testSetPredictions > threshold"
      ],
      "execution_count": 0,
      "outputs": []
    },
    {
      "metadata": {
        "id": "aJjxrQTqU7eQ",
        "colab_type": "code",
        "colab": {}
      },
      "cell_type": "code",
      "source": [
        "# Create the predictions plot\n",
        "fig2, ax2 = plt.subplots()\n",
        "ax2.scatter(testDataPoints[:, 0], testDataPoints[:, 1], c='g')\n",
        "\n",
        "outsidePointsTestSet = testDataPoints[testSetPredictions]\n",
        "ax2.scatter(outsidePointsTestSet[:, 0], outsidePointsTestSet[:, 1], c='r')\n",
        "\n",
        "ellipseTwo = Ellipse(xy=center, width=(r * 2), height=(r * 2), angle=0.0, fill=False, color='y') # Draw the original ellipse\n",
        "ax2.add_patch(ellipseTwo)\n",
        "ax2.set_title('Test data')\n",
        "\n",
        "plt.show()"
      ],
      "execution_count": 0,
      "outputs": []
    }
  ]
}