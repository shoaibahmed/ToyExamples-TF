{
  "nbformat": 4,
  "nbformat_minor": 0,
  "metadata": {
    "colab": {
      "name": "MLP - Circle.ipynb",
      "version": "0.3.2",
      "provenance": [],
      "collapsed_sections": []
    },
    "kernelspec": {
      "name": "python3",
      "display_name": "Python 3"
    }
  },
  "cells": [
    {
      "metadata": {
        "id": "gRpqiKbzK60q",
        "colab_type": "code",
        "colab": {}
      },
      "cell_type": "code",
      "source": [
        "# Import pacakges\n",
        "\n",
        "import numpy as np\n",
        "\n",
        "# ML packages\n",
        "import tensorflow as tf\n",
        "\n",
        "# Visualization packages\n",
        "import matplotlib.pyplot as plt\n",
        "from matplotlib.patches import Ellipse\n",
        "\n",
        "%matplotlib inline"
      ],
      "execution_count": 0,
      "outputs": []
    },
    {
      "metadata": {
        "id": "0DgtAY5OLDMI",
        "colab_type": "code",
        "colab": {}
      },
      "cell_type": "code",
      "source": [
        "# Create the 2-D dataset of points within the range of 0 and 5\n",
        "numSamples = 200\n",
        "numDimensions = 2\n",
        "\n",
        "maxXValue = 10\n",
        "maxYValue = 7\n",
        "\n",
        "trainDataPoints = np.array([np.random.randint(low=-maxXValue, high=maxXValue, size=(numSamples,)), np.random.randint(low=-maxYValue, high=maxYValue, size=(numSamples,))]).T\n",
        "testDataPoints = np.array([np.random.randint(low=-maxXValue, high=maxXValue, size=(numSamples,)), np.random.randint(low=-maxYValue, high=maxYValue, size=(numSamples,))]).T\n",
        "\n",
        "# Desired ellipse params\n",
        "# (x - x0)^2/a^2 + (y - y0)^2/b^2 = r^2\n",
        "center = (0, 0)\n",
        "a = 1\n",
        "b = 1\n",
        "r = 5\n",
        "\n",
        "trainLabels = ((np.square(trainDataPoints[:, 0] - center[0]) / np.square(a)) + (np.square(trainDataPoints[:, 1] - center[1]) / np.square(b)) > np.square(r))\n",
        "testLabels = ((np.square(testDataPoints[:, 0] - center[0]) / np.square(a)) + (np.square(testDataPoints[:, 1] - center[1]) / np.square(b)) > np.square(r))\n",
        "\n",
        "trainLabelsFloat = trainLabels.astype(float)\n",
        "testLabelsFloat = trainLabels.astype(float)\n",
        "\n",
        "outerPoints = trainDataPoints[trainLabels]"
      ],
      "execution_count": 0,
      "outputs": []
    },
    {
      "metadata": {
        "id": "NCHsym85VZDB",
        "colab_type": "code",
        "colab": {
          "base_uri": "https://localhost:8080/",
          "height": 298
        },
        "outputId": "541c6a84-f02f-4a05-8bdc-4f644dcfa085"
      },
      "cell_type": "code",
      "source": [
        "# Plot the dataset\n",
        "fig, ax = plt.subplots()\n",
        "\n",
        "ax.scatter(trainDataPoints[:, 0], trainDataPoints[:, 1], c='g')\n",
        "ax.scatter(outerPoints[:, 0], outerPoints[:, 1], c='r')\n",
        "\n",
        "ellipse = Ellipse(xy=center, width=(r * 2), height=(r * 2), angle=0.0, fill=False, color='y') # Draw the original ellipse\n",
        "\n",
        "ax.add_patch(ellipse)\n",
        "ax.set_title('Train data')"
      ],
      "execution_count": 3,
      "outputs": [
        {
          "output_type": "execute_result",
          "data": {
            "text/plain": [
              "Text(0.5,1,'Train data')"
            ]
          },
          "metadata": {
            "tags": []
          },
          "execution_count": 3
        },
        {
          "output_type": "display_data",
          "data": {
            "image/png": "[encoded data removed]",
            "text/plain": [
              "<matplotlib.figure.Figure at 0x7efeb6c4df28>"
            ]
          },
          "metadata": {
            "tags": []
          }
        }
      ]
    },
    {
      "metadata": {
        "id": "hAGgses2LI-1",
        "colab_type": "code",
        "colab": {
          "base_uri": "https://localhost:8080/",
          "height": 35
        },
        "outputId": "31d033ba-d7c2-4059-b477-8866e9ee44b9"
      },
      "cell_type": "code",
      "source": [
        "# Perform polynomial logistic regression\n",
        "numIterations = 100\n",
        "learningRate = 1e-1\n",
        "\n",
        "# Clear previous graph\n",
        "tf.reset_default_graph()\n",
        "\n",
        "dataPointPlaceholder = tf.placeholder(tf.float32, shape=(None, numDimensions), name=\"dataPointPlaceholder\")\n",
        "labelPlaceholder = tf.placeholder(tf.float32, shape=(None,), name=\"labelPlaceholder\")\n",
        "\n",
        "# Create the model variables\n",
        "def addMLPNode(dataInput, outDim):\n",
        "\tW = tf.Variable(tf.random_normal([int(dataInput.get_shape()[-1]), outDim]))\n",
        "\tb = tf.Variable(tf.zeros([outDim]))\n",
        "\ty = tf.matmul(dataInput, W) + b\n",
        "\treturn y\n",
        "\n",
        "# Create the model\n",
        "hiddenDimension = 10\n",
        "mlp = tf.nn.tanh(addMLPNode(dataPointPlaceholder, hiddenDimension))\n",
        "mlp = tf.nn.sigmoid(addMLPNode(mlp, 1))\n",
        "y = tf.reshape(mlp, [-1])\n",
        "print (y.get_shape())\n",
        "\n",
        "# Define the loss function\n",
        "epsilon = 1e-8\n",
        "with tf.name_scope('loss') as scope:\n",
        "\tloss = - (labelPlaceholder * tf.log(y + epsilon)) - ((1.0 - labelPlaceholder) * tf.log(1.0 - y + epsilon))\n",
        "\tloss = tf.reduce_mean(loss)\n",
        "  \n",
        "with tf.name_scope('accuracy'):\n",
        "\tcorrectPredictions = tf.equal(tf.round(y), tf.round(labelPlaceholder))\n",
        "\taccuracy = tf.reduce_mean(tf.cast(correctPredictions, tf.float32), name='accuracy')\n",
        "\n",
        "with tf.name_scope('optimizer') as scope:\n",
        "\toptimizer = tf.train.AdamOptimizer(learning_rate=learningRate).minimize(loss)"
      ],
      "execution_count": 4,
      "outputs": [
        {
          "output_type": "stream",
          "text": [
            "(?,)\n"
          ],
          "name": "stdout"
        }
      ]
    },
    {
      "metadata": {
        "id": "kvnAhzDaLMPF",
        "colab_type": "code",
        "colab": {
          "base_uri": "https://localhost:8080/",
          "height": 1853
        },
        "outputId": "8bfe4ed1-26cb-4d19-d8f4-c5ced3477fb8"
      },
      "cell_type": "code",
      "source": [
        "# Train the model\n",
        "print (\"Training model\")\n",
        "config = tf.ConfigProto()\n",
        "config.gpu_options.allow_growth=True\n",
        "\n",
        "with tf.Session(config=config) as sess:\n",
        "  # Initializing the variables\n",
        "  init = tf.global_variables_initializer()\n",
        "  sess.run(init)\n",
        "\n",
        "  for i in range(numIterations):\n",
        "    _, trainLoss, trainAccuracy = sess.run([optimizer, loss, accuracy], feed_dict={dataPointPlaceholder: trainDataPoints, labelPlaceholder: trainLabelsFloat})\n",
        "    print (\"Iteration: %d | Loss: %f | Accuracy: %f\" % (i + 1, trainLoss, trainAccuracy))\n",
        "  print (\"Training finished!\")\n",
        "\n",
        "  # Generate predictions on the test set\n",
        "  testSetPredictions, testLoss, testAccuracy = sess.run([y, loss, accuracy], feed_dict={dataPointPlaceholder: testDataPoints, labelPlaceholder: testLabelsFloat})"
      ],
      "execution_count": 5,
      "outputs": [
        {
          "output_type": "stream",
          "text": [
            "Training model\n",
            "Iteration: 1 | Loss: 1.109483 | Accuracy: 0.490000\n",
            "Iteration: 2 | Loss: 0.839939 | Accuracy: 0.585000\n",
            "Iteration: 3 | Loss: 0.676720 | Accuracy: 0.575000\n",
            "Iteration: 4 | Loss: 0.621943 | Accuracy: 0.555000\n",
            "Iteration: 5 | Loss: 0.621712 | Accuracy: 0.545000\n",
            "Iteration: 6 | Loss: 0.621129 | Accuracy: 0.700000\n",
            "Iteration: 7 | Loss: 0.608047 | Accuracy: 0.720000\n",
            "Iteration: 8 | Loss: 0.587673 | Accuracy: 0.740000\n",
            "Iteration: 9 | Loss: 0.563950 | Accuracy: 0.745000\n",
            "Iteration: 10 | Loss: 0.539700 | Accuracy: 0.750000\n",
            "Iteration: 11 | Loss: 0.517021 | Accuracy: 0.770000\n",
            "Iteration: 12 | Loss: 0.499052 | Accuracy: 0.775000\n",
            "Iteration: 13 | Loss: 0.488670 | Accuracy: 0.775000\n",
            "Iteration: 14 | Loss: 0.485291 | Accuracy: 0.785000\n",
            "Iteration: 15 | Loss: 0.484595 | Accuracy: 0.775000\n",
            "Iteration: 16 | Loss: 0.482886 | Accuracy: 0.780000\n",
            "Iteration: 17 | Loss: 0.478850 | Accuracy: 0.785000\n",
            "Iteration: 18 | Loss: 0.472694 | Accuracy: 0.780000\n",
            "Iteration: 19 | Loss: 0.465297 | Accuracy: 0.785000\n",
            "Iteration: 20 | Loss: 0.457613 | Accuracy: 0.805000\n",
            "Iteration: 21 | Loss: 0.450369 | Accuracy: 0.810000\n",
            "Iteration: 22 | Loss: 0.443594 | Accuracy: 0.810000\n",
            "Iteration: 23 | Loss: 0.436695 | Accuracy: 0.810000\n",
            "Iteration: 24 | Loss: 0.429687 | Accuracy: 0.810000\n",
            "Iteration: 25 | Loss: 0.422743 | Accuracy: 0.820000\n",
            "Iteration: 26 | Loss: 0.415854 | Accuracy: 0.835000\n",
            "Iteration: 27 | Loss: 0.409412 | Accuracy: 0.835000\n",
            "Iteration: 28 | Loss: 0.402996 | Accuracy: 0.850000\n",
            "Iteration: 29 | Loss: 0.394198 | Accuracy: 0.865000\n",
            "Iteration: 30 | Loss: 0.383161 | Accuracy: 0.860000\n",
            "Iteration: 31 | Loss: 0.374079 | Accuracy: 0.870000\n",
            "Iteration: 32 | Loss: 0.366545 | Accuracy: 0.850000\n",
            "Iteration: 33 | Loss: 0.355363 | Accuracy: 0.880000\n",
            "Iteration: 34 | Loss: 0.344845 | Accuracy: 0.875000\n",
            "Iteration: 35 | Loss: 0.337672 | Accuracy: 0.880000\n",
            "Iteration: 36 | Loss: 0.329055 | Accuracy: 0.880000\n",
            "Iteration: 37 | Loss: 0.319286 | Accuracy: 0.885000\n",
            "Iteration: 38 | Loss: 0.311312 | Accuracy: 0.890000\n",
            "Iteration: 39 | Loss: 0.306028 | Accuracy: 0.890000\n",
            "Iteration: 40 | Loss: 0.301225 | Accuracy: 0.900000\n",
            "Iteration: 41 | Loss: 0.295876 | Accuracy: 0.905000\n",
            "Iteration: 42 | Loss: 0.291750 | Accuracy: 0.910000\n",
            "Iteration: 43 | Loss: 0.287435 | Accuracy: 0.900000\n",
            "Iteration: 44 | Loss: 0.282540 | Accuracy: 0.895000\n",
            "Iteration: 45 | Loss: 0.278487 | Accuracy: 0.915000\n",
            "Iteration: 46 | Loss: 0.273569 | Accuracy: 0.905000\n",
            "Iteration: 47 | Loss: 0.268605 | Accuracy: 0.905000\n",
            "Iteration: 48 | Loss: 0.264191 | Accuracy: 0.905000\n",
            "Iteration: 49 | Loss: 0.259375 | Accuracy: 0.910000\n",
            "Iteration: 50 | Loss: 0.255335 | Accuracy: 0.910000\n",
            "Iteration: 51 | Loss: 0.252524 | Accuracy: 0.915000\n",
            "Iteration: 52 | Loss: 0.249476 | Accuracy: 0.915000\n",
            "Iteration: 53 | Loss: 0.245600 | Accuracy: 0.915000\n",
            "Iteration: 54 | Loss: 0.241335 | Accuracy: 0.920000\n",
            "Iteration: 55 | Loss: 0.237063 | Accuracy: 0.930000\n",
            "Iteration: 56 | Loss: 0.233126 | Accuracy: 0.930000\n",
            "Iteration: 57 | Loss: 0.229695 | Accuracy: 0.930000\n",
            "Iteration: 58 | Loss: 0.226261 | Accuracy: 0.935000\n",
            "Iteration: 59 | Loss: 0.222636 | Accuracy: 0.930000\n",
            "Iteration: 60 | Loss: 0.219440 | Accuracy: 0.930000\n",
            "Iteration: 61 | Loss: 0.216341 | Accuracy: 0.935000\n",
            "Iteration: 62 | Loss: 0.212927 | Accuracy: 0.940000\n",
            "Iteration: 63 | Loss: 0.209453 | Accuracy: 0.950000\n",
            "Iteration: 64 | Loss: 0.205888 | Accuracy: 0.950000\n",
            "Iteration: 65 | Loss: 0.202768 | Accuracy: 0.960000\n",
            "Iteration: 66 | Loss: 0.200245 | Accuracy: 0.955000\n",
            "Iteration: 67 | Loss: 0.197634 | Accuracy: 0.955000\n",
            "Iteration: 68 | Loss: 0.194706 | Accuracy: 0.965000\n",
            "Iteration: 69 | Loss: 0.191339 | Accuracy: 0.970000\n",
            "Iteration: 70 | Loss: 0.187346 | Accuracy: 0.970000\n",
            "Iteration: 71 | Loss: 0.183175 | Accuracy: 0.970000\n",
            "Iteration: 72 | Loss: 0.180580 | Accuracy: 0.970000\n",
            "Iteration: 73 | Loss: 0.178975 | Accuracy: 0.970000\n",
            "Iteration: 74 | Loss: 0.176403 | Accuracy: 0.975000\n",
            "Iteration: 75 | Loss: 0.173645 | Accuracy: 0.970000\n",
            "Iteration: 76 | Loss: 0.171256 | Accuracy: 0.970000\n",
            "Iteration: 77 | Loss: 0.169009 | Accuracy: 0.970000\n",
            "Iteration: 78 | Loss: 0.166586 | Accuracy: 0.975000\n",
            "Iteration: 79 | Loss: 0.164218 | Accuracy: 0.975000\n",
            "Iteration: 80 | Loss: 0.162012 | Accuracy: 0.975000\n",
            "Iteration: 81 | Loss: 0.159764 | Accuracy: 0.980000\n",
            "Iteration: 82 | Loss: 0.157211 | Accuracy: 0.980000\n",
            "Iteration: 83 | Loss: 0.154415 | Accuracy: 0.980000\n",
            "Iteration: 84 | Loss: 0.151918 | Accuracy: 0.980000\n",
            "Iteration: 85 | Loss: 0.149973 | Accuracy: 0.975000\n",
            "Iteration: 86 | Loss: 0.148355 | Accuracy: 0.970000\n",
            "Iteration: 87 | Loss: 0.146735 | Accuracy: 0.975000\n",
            "Iteration: 88 | Loss: 0.144885 | Accuracy: 0.975000\n",
            "Iteration: 89 | Loss: 0.142939 | Accuracy: 0.975000\n",
            "Iteration: 90 | Loss: 0.141109 | Accuracy: 0.985000\n",
            "Iteration: 91 | Loss: 0.139394 | Accuracy: 0.985000\n",
            "Iteration: 92 | Loss: 0.137720 | Accuracy: 0.985000\n",
            "Iteration: 93 | Loss: 0.135992 | Accuracy: 0.985000\n",
            "Iteration: 94 | Loss: 0.134207 | Accuracy: 0.985000\n",
            "Iteration: 95 | Loss: 0.132482 | Accuracy: 0.985000\n",
            "Iteration: 96 | Loss: 0.130899 | Accuracy: 0.985000\n",
            "Iteration: 97 | Loss: 0.129475 | Accuracy: 0.990000\n",
            "Iteration: 98 | Loss: 0.128153 | Accuracy: 0.980000\n",
            "Iteration: 99 | Loss: 0.126895 | Accuracy: 0.985000\n",
            "Iteration: 100 | Loss: 0.125639 | Accuracy: 0.985000\n",
            "Training finished!\n"
          ],
          "name": "stdout"
        }
      ]
    },
    {
      "metadata": {
        "id": "Fabl12KCyXA6",
        "colab_type": "code",
        "colab": {
          "base_uri": "https://localhost:8080/",
          "height": 35
        },
        "outputId": "a2af8c8c-0abd-442a-f0dc-7432454bf139"
      },
      "cell_type": "code",
      "source": [
        "print (\"Test Loss: %f | Test Accuracy: %f\" % (testLoss, testAccuracy))\n",
        "\n",
        "testSetPredictions = np.squeeze(testSetPredictions)\n",
        "threshold = 0.5\n",
        "testSetPredictions = testSetPredictions > threshold"
      ],
      "execution_count": 6,
      "outputs": [
        {
          "output_type": "stream",
          "text": [
            "Test Loss: 1.182634 | Test Accuracy: 0.570000\n"
          ],
          "name": "stdout"
        }
      ]
    },
    {
      "metadata": {
        "id": "bvxreeM6LPIt",
        "colab_type": "code",
        "colab": {
          "base_uri": "https://localhost:8080/",
          "height": 280
        },
        "outputId": "99fce7e6-58dc-47ad-f6aa-e0a70b7f1919"
      },
      "cell_type": "code",
      "source": [
        "# Plot the predictions\n",
        "fig2, ax2 = plt.subplots()\n",
        "ax2.scatter(testDataPoints[:, 0], testDataPoints[:, 1], c='g')\n",
        "\n",
        "outsidePointsTestSet = testDataPoints[testSetPredictions]\n",
        "ax2.scatter(outsidePointsTestSet[:, 0], outsidePointsTestSet[:, 1], c='r')\n",
        "\n",
        "ellipseTwo = Ellipse(xy=center, width=(r * 2), height=(r * 2), angle=0.0, fill=False, color='y') # Draw the original ellipse\n",
        "ax2.add_patch(ellipseTwo)\n",
        "ax2.set_title('Test data')\n",
        "\n",
        "plt.show()"
      ],
      "execution_count": 7,
      "outputs": [
        {
          "output_type": "display_data",
          "data": {
            "image/png": "[encoded data removed]",
            "text/plain": [
              "<matplotlib.figure.Figure at 0x7efeb4bac4a8>"
            ]
          },
          "metadata": {
            "tags": []
          }
        }
      ]
    }
  ]
}